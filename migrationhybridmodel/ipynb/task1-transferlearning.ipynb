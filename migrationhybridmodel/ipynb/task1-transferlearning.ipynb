{
 "cells": [
  {
   "cell_type": "raw",
   "metadata": {},
   "source": [
    "任务：基于transfer_data.csv数据，建立mlp模型，再实现模型迁移学习：\n",
    "1.实现x对y的预测，可视化结果\n",
    "2.基于新数据transfer_data2.csv，对前模型进行二次训练，对比模型训练次数少的情况下的表现\n",
    "备注：模型结构：mlp，两个隐藏层，每层50个神经元，激活函数relu，输出层激活函数linear，迭代次数：100次"
   ]
  },
  {
   "cell_type": "raw",
   "metadata": {},
   "source": [
    "@Author  : Flare Zhao\n",
    "@Email: 454209979@qq.com\n",
    "@QQ讨论群：530533630  申请加群的验证信息为订单号（粘贴号码数字即可）"
   ]
  },
  {
   "cell_type": "code",
   "execution_count": 1,
   "metadata": {},
   "outputs": [
    {
     "data": {
      "text/html": [
       "<div>\n",
       "<style scoped>\n",
       "    .dataframe tbody tr th:only-of-type {\n",
       "        vertical-align: middle;\n",
       "    }\n",
       "\n",
       "    .dataframe tbody tr th {\n",
       "        vertical-align: top;\n",
       "    }\n",
       "\n",
       "    .dataframe thead th {\n",
       "        text-align: right;\n",
       "    }\n",
       "</style>\n",
       "<table border=\"1\" class=\"dataframe\">\n",
       "  <thead>\n",
       "    <tr style=\"text-align: right;\">\n",
       "      <th></th>\n",
       "      <th>x</th>\n",
       "      <th>y</th>\n",
       "    </tr>\n",
       "  </thead>\n",
       "  <tbody>\n",
       "    <tr>\n",
       "      <th>0</th>\n",
       "      <td>-5.0</td>\n",
       "      <td>25.00</td>\n",
       "    </tr>\n",
       "    <tr>\n",
       "      <th>1</th>\n",
       "      <td>-4.9</td>\n",
       "      <td>24.01</td>\n",
       "    </tr>\n",
       "    <tr>\n",
       "      <th>2</th>\n",
       "      <td>-4.8</td>\n",
       "      <td>23.04</td>\n",
       "    </tr>\n",
       "    <tr>\n",
       "      <th>3</th>\n",
       "      <td>-4.7</td>\n",
       "      <td>22.09</td>\n",
       "    </tr>\n",
       "    <tr>\n",
       "      <th>4</th>\n",
       "      <td>-4.6</td>\n",
       "      <td>21.16</td>\n",
       "    </tr>\n",
       "  </tbody>\n",
       "</table>\n",
       "</div>"
      ],
      "text/plain": [
       "     x      y\n",
       "0 -5.0  25.00\n",
       "1 -4.9  24.01\n",
       "2 -4.8  23.04\n",
       "3 -4.7  22.09\n",
       "4 -4.6  21.16"
      ]
     },
     "execution_count": 1,
     "metadata": {},
     "output_type": "execute_result"
    }
   ],
   "source": [
    "#load the data\n",
    "import pandas as pd\n",
    "import numpy as np\n",
    "data = pd.read_csv('transfer_data.csv')\n",
    "data.head()"
   ]
  },
  {
   "cell_type": "code",
   "execution_count": 2,
   "metadata": {},
   "outputs": [
    {
     "data": {
      "text/plain": [
       "0    25.00\n",
       "1    24.01\n",
       "2    23.04\n",
       "3    22.09\n",
       "4    21.16\n",
       "Name: y, dtype: float64"
      ]
     },
     "execution_count": 2,
     "metadata": {},
     "output_type": "execute_result"
    }
   ],
   "source": [
    "#define x and y\n",
    "X = data.loc[:,'x']\n",
    "y = data.loc[:,'y']\n",
    "y.head()"
   ]
  },
  {
   "cell_type": "code",
   "execution_count": 3,
   "metadata": {},
   "outputs": [
    {
     "data": {
      "image/png": "[encoded data removed]",
      "text/plain": [
       "<Figure size 504x360 with 1 Axes>"
      ]
     },
     "metadata": {
      "needs_background": "light"
     },
     "output_type": "display_data"
    }
   ],
   "source": [
    "#visualize the data\n",
    "%matplotlib inline\n",
    "from matplotlib import pyplot as plt\n",
    "fig1 = plt.figure(figsize=(7,5))\n",
    "plt.scatter(X,y)\n",
    "plt.title('y vs x')\n",
    "plt.xlabel('x')\n",
    "plt.ylabel('y')\n",
    "plt.show()"
   ]
  },
  {
   "cell_type": "code",
   "execution_count": 4,
   "metadata": {},
   "outputs": [
    {
     "name": "stdout",
     "output_type": "stream",
     "text": [
      "(101, 1) (101,)\n"
     ]
    }
   ],
   "source": [
    "X = np.array(X).reshape(-1,1)\n",
    "print(X.shape,y.shape)"
   ]
  },
  {
   "cell_type": "code",
   "execution_count": 10,
   "metadata": {},
   "outputs": [
    {
     "name": "stdout",
     "output_type": "stream",
     "text": [
      "Model: \"sequential_2\"\n",
      "_________________________________________________________________\n",
      "Layer (type)                 Output Shape              Param #   \n",
      "=================================================================\n",
      "dense_4 (Dense)              (None, 50)                100       \n",
      "_________________________________________________________________\n",
      "dense_5 (Dense)              (None, 50)                2550      \n",
      "_________________________________________________________________\n",
      "dense_6 (Dense)              (None, 1)                 51        \n",
      "=================================================================\n",
      "Total params: 2,701\n",
      "Trainable params: 2,701\n",
      "Non-trainable params: 0\n",
      "_________________________________________________________________\n"
     ]
    }
   ],
   "source": [
    "from keras.models import Sequential\n",
    "from keras.layers import Dense\n",
    "model1 = Sequential()\n",
    "model1.add(Dense(units=50, input_dim = 1, activation='relu'))\n",
    "model1.add(Dense(units=50,activation='relu'))\n",
    "model1.add(Dense(units=1, activation = 'linear'))\n",
    "model1.compile(optimizer='adam',loss='mean_squared_error')\n",
    "model1.summary()"
   ]
  },
  {
   "cell_type": "code",
   "execution_count": 18,
   "metadata": {},
   "outputs": [
    {
     "name": "stdout",
     "output_type": "stream",
     "text": [
      "Epoch 1/200\n",
      "101/101 [==============================] - 0s 129us/step - loss: 1.0078\n",
      "Epoch 2/200\n",
      "101/101 [==============================] - 0s 109us/step - loss: 0.9917\n",
      "Epoch 3/200\n",
      "101/101 [==============================] - 0s 109us/step - loss: 0.9843\n",
      "Epoch 4/200\n",
      "101/101 [==============================] - 0s 119us/step - loss: 0.9604\n",
      "Epoch 5/200\n",
      "101/101 [==============================] - 0s 148us/step - loss: 0.9504\n",
      "Epoch 6/200\n",
      "101/101 [==============================] - 0s 129us/step - loss: 0.9247\n",
      "Epoch 7/200\n",
      "101/101 [==============================] - 0s 139us/step - loss: 0.9163\n",
      "Epoch 8/200\n",
      "101/101 [==============================] - 0s 168us/step - loss: 0.9000\n",
      "Epoch 9/200\n",
      "101/101 [==============================] - 0s 109us/step - loss: 0.8704\n",
      "Epoch 10/200\n",
      "101/101 [==============================] - 0s 139us/step - loss: 0.8563\n",
      "Epoch 11/200\n",
      "101/101 [==============================] - 0s 119us/step - loss: 0.8454\n",
      "Epoch 12/200\n",
      "101/101 [==============================] - 0s 168us/step - loss: 0.8507\n",
      "Epoch 13/200\n",
      "101/101 [==============================] - 0s 139us/step - loss: 0.8530\n",
      "Epoch 14/200\n",
      "101/101 [==============================] - 0s 168us/step - loss: 0.8200\n",
      "Epoch 15/200\n",
      "101/101 [==============================] - 0s 178us/step - loss: 0.7993\n",
      "Epoch 16/200\n",
      "101/101 [==============================] - 0s 148us/step - loss: 0.8049\n",
      "Epoch 17/200\n",
      "101/101 [==============================] - 0s 139us/step - loss: 0.7875\n",
      "Epoch 18/200\n",
      "101/101 [==============================] - 0s 162us/step - loss: 0.7590\n",
      "Epoch 19/200\n",
      "101/101 [==============================] - 0s 153us/step - loss: 0.7613\n",
      "Epoch 20/200\n",
      "101/101 [==============================] - 0s 158us/step - loss: 0.7283\n",
      "Epoch 21/200\n",
      "101/101 [==============================] - 0s 178us/step - loss: 0.7280\n",
      "Epoch 22/200\n",
      "101/101 [==============================] - 0s 158us/step - loss: 0.7142\n",
      "Epoch 23/200\n",
      "101/101 [==============================] - ETA: 0s - loss: 0.975 - 0s 148us/step - loss: 0.7129\n",
      "Epoch 24/200\n",
      "101/101 [==============================] - 0s 132us/step - loss: 0.6860\n",
      "Epoch 25/200\n",
      "101/101 [==============================] - 0s 119us/step - loss: 0.6849\n",
      "Epoch 26/200\n",
      "101/101 [==============================] - 0s 138us/step - loss: 0.6937\n",
      "Epoch 27/200\n",
      "101/101 [==============================] - 0s 168us/step - loss: 0.6687\n",
      "Epoch 28/200\n",
      "101/101 [==============================] - 0s 168us/step - loss: 0.6389\n",
      "Epoch 29/200\n",
      "101/101 [==============================] - 0s 169us/step - loss: 0.6829\n",
      "Epoch 30/200\n",
      "101/101 [==============================] - 0s 148us/step - loss: 0.6698\n",
      "Epoch 31/200\n",
      "101/101 [==============================] - 0s 135us/step - loss: 0.6107\n",
      "Epoch 32/200\n",
      "101/101 [==============================] - 0s 139us/step - loss: 0.6141\n",
      "Epoch 33/200\n",
      "101/101 [==============================] - 0s 139us/step - loss: 0.6163\n",
      "Epoch 34/200\n",
      "101/101 [==============================] - 0s 148us/step - loss: 0.5968\n",
      "Epoch 35/200\n",
      "101/101 [==============================] - 0s 168us/step - loss: 0.5769\n",
      "Epoch 36/200\n",
      "101/101 [==============================] - 0s 168us/step - loss: 0.5819\n",
      "Epoch 37/200\n",
      "101/101 [==============================] - 0s 208us/step - loss: 0.5729\n",
      "Epoch 38/200\n",
      "101/101 [==============================] - 0s 168us/step - loss: 0.5540\n",
      "Epoch 39/200\n",
      "101/101 [==============================] - 0s 168us/step - loss: 0.5685\n",
      "Epoch 40/200\n",
      "101/101 [==============================] - 0s 204us/step - loss: 0.5796\n",
      "Epoch 41/200\n",
      "101/101 [==============================] - 0s 168us/step - loss: 0.5498\n",
      "Epoch 42/200\n",
      "101/101 [==============================] - 0s 158us/step - loss: 0.5307\n",
      "Epoch 43/200\n",
      "101/101 [==============================] - 0s 158us/step - loss: 0.5196\n",
      "Epoch 44/200\n",
      "101/101 [==============================] - 0s 151us/step - loss: 0.5067\n",
      "Epoch 45/200\n",
      "101/101 [==============================] - 0s 131us/step - loss: 0.4845\n",
      "Epoch 46/200\n",
      "101/101 [==============================] - 0s 178us/step - loss: 0.4999\n",
      "Epoch 47/200\n",
      "101/101 [==============================] - 0s 129us/step - loss: 0.4819\n",
      "Epoch 48/200\n",
      "101/101 [==============================] - 0s 148us/step - loss: 0.4917\n",
      "Epoch 49/200\n",
      "101/101 [==============================] - 0s 158us/step - loss: 0.4854\n",
      "Epoch 50/200\n",
      "101/101 [==============================] - 0s 148us/step - loss: 0.4673\n",
      "Epoch 51/200\n",
      "101/101 [==============================] - 0s 139us/step - loss: 0.4516\n",
      "Epoch 52/200\n",
      "101/101 [==============================] - 0s 158us/step - loss: 0.4464\n",
      "Epoch 53/200\n",
      "101/101 [==============================] - 0s 178us/step - loss: 0.4497\n",
      "Epoch 54/200\n",
      "101/101 [==============================] - 0s 148us/step - loss: 0.4263\n",
      "Epoch 55/200\n",
      "101/101 [==============================] - 0s 129us/step - loss: 0.4253\n",
      "Epoch 56/200\n",
      "101/101 [==============================] - 0s 152us/step - loss: 0.4417\n",
      "Epoch 57/200\n",
      "101/101 [==============================] - 0s 158us/step - loss: 0.4256\n",
      "Epoch 58/200\n",
      "101/101 [==============================] - 0s 151us/step - loss: 0.4062\n",
      "Epoch 59/200\n",
      "101/101 [==============================] - 0s 158us/step - loss: 0.4052\n",
      "Epoch 60/200\n",
      "101/101 [==============================] - 0s 158us/step - loss: 0.4113\n",
      "Epoch 61/200\n",
      "101/101 [==============================] - 0s 148us/step - loss: 0.3864\n",
      "Epoch 62/200\n",
      "101/101 [==============================] - 0s 162us/step - loss: 0.3729\n",
      "Epoch 63/200\n",
      "101/101 [==============================] - 0s 168us/step - loss: 0.3758\n",
      "Epoch 64/200\n",
      "101/101 [==============================] - 0s 168us/step - loss: 0.3848\n",
      "Epoch 65/200\n",
      "101/101 [==============================] - 0s 109us/step - loss: 0.3654\n",
      "Epoch 66/200\n",
      "101/101 [==============================] - 0s 165us/step - loss: 0.3677\n",
      "Epoch 67/200\n",
      "101/101 [==============================] - 0s 148us/step - loss: 0.4082\n",
      "Epoch 68/200\n",
      "101/101 [==============================] - 0s 160us/step - loss: 0.3795\n",
      "Epoch 69/200\n",
      "101/101 [==============================] - 0s 163us/step - loss: 0.3453\n",
      "Epoch 70/200\n",
      "101/101 [==============================] - 0s 168us/step - loss: 0.3390\n",
      "Epoch 71/200\n",
      "101/101 [==============================] - 0s 125us/step - loss: 0.3271\n",
      "Epoch 72/200\n",
      "101/101 [==============================] - 0s 218us/step - loss: 0.3182\n",
      "Epoch 73/200\n",
      "101/101 [==============================] - 0s 178us/step - loss: 0.3167\n",
      "Epoch 74/200\n",
      "101/101 [==============================] - 0s 139us/step - loss: 0.3160\n",
      "Epoch 75/200\n",
      "101/101 [==============================] - 0s 148us/step - loss: 0.3162\n",
      "Epoch 76/200\n",
      "101/101 [==============================] - 0s 101us/step - loss: 0.3051\n",
      "Epoch 77/200\n",
      "101/101 [==============================] - 0s 139us/step - loss: 0.2965\n",
      "Epoch 78/200\n",
      "101/101 [==============================] - 0s 148us/step - loss: 0.2954\n",
      "Epoch 79/200\n",
      "101/101 [==============================] - 0s 168us/step - loss: 0.2942\n",
      "Epoch 80/200\n",
      "101/101 [==============================] - 0s 178us/step - loss: 0.2928\n",
      "Epoch 81/200\n",
      "101/101 [==============================] - 0s 188us/step - loss: 0.2819\n",
      "Epoch 82/200\n",
      "101/101 [==============================] - 0s 152us/step - loss: 0.2815\n",
      "Epoch 83/200\n",
      "101/101 [==============================] - 0s 129us/step - loss: 0.2870\n",
      "Epoch 84/200\n",
      "101/101 [==============================] - 0s 142us/step - loss: 0.2687\n",
      "Epoch 85/200\n",
      "101/101 [==============================] - 0s 96us/step - loss: 0.2802\n",
      "Epoch 86/200\n",
      "101/101 [==============================] - 0s 109us/step - loss: 0.2727\n",
      "Epoch 87/200\n",
      "101/101 [==============================] - 0s 139us/step - loss: 0.2585\n",
      "Epoch 88/200\n",
      "101/101 [==============================] - 0s 178us/step - loss: 0.3026\n",
      "Epoch 89/200\n",
      "101/101 [==============================] - ETA: 0s - loss: 0.175 - 0s 178us/step - loss: 0.2530\n",
      "Epoch 90/200\n",
      "101/101 [==============================] - 0s 158us/step - loss: 0.2872\n",
      "Epoch 91/200\n",
      "101/101 [==============================] - 0s 178us/step - loss: 0.2653\n",
      "Epoch 92/200\n",
      "101/101 [==============================] - 0s 99us/step - loss: 0.2602\n",
      "Epoch 93/200\n",
      "101/101 [==============================] - 0s 129us/step - loss: 0.2731\n",
      "Epoch 94/200\n",
      "101/101 [==============================] - 0s 139us/step - loss: 0.2418\n",
      "Epoch 95/200\n",
      "101/101 [==============================] - 0s 148us/step - loss: 0.2427\n",
      "Epoch 96/200\n",
      "101/101 [==============================] - 0s 148us/step - loss: 0.2410\n"
     ]
    },
    {
     "name": "stdout",
     "output_type": "stream",
     "text": [
      "Epoch 97/200\n",
      "101/101 [==============================] - 0s 168us/step - loss: 0.2246\n",
      "Epoch 98/200\n",
      "101/101 [==============================] - 0s 148us/step - loss: 0.2227\n",
      "Epoch 99/200\n",
      "101/101 [==============================] - 0s 198us/step - loss: 0.2226\n",
      "Epoch 100/200\n",
      "101/101 [==============================] - 0s 129us/step - loss: 0.2154\n",
      "Epoch 101/200\n",
      "101/101 [==============================] - 0s 178us/step - loss: 0.2133\n",
      "Epoch 102/200\n",
      "101/101 [==============================] - 0s 158us/step - loss: 0.2107\n",
      "Epoch 103/200\n",
      "101/101 [==============================] - 0s 139us/step - loss: 0.2080\n",
      "Epoch 104/200\n",
      "101/101 [==============================] - 0s 139us/step - loss: 0.2110\n",
      "Epoch 105/200\n",
      "101/101 [==============================] - 0s 188us/step - loss: 0.2130\n",
      "Epoch 106/200\n",
      "101/101 [==============================] - 0s 168us/step - loss: 0.2069\n",
      "Epoch 107/200\n",
      "101/101 [==============================] - 0s 158us/step - loss: 0.2014\n",
      "Epoch 108/200\n",
      "101/101 [==============================] - 0s 148us/step - loss: 0.1920\n",
      "Epoch 109/200\n",
      "101/101 [==============================] - 0s 158us/step - loss: 0.2118\n",
      "Epoch 110/200\n",
      "101/101 [==============================] - 0s 178us/step - loss: 0.2247\n",
      "Epoch 111/200\n",
      "101/101 [==============================] - 0s 188us/step - loss: 0.2027\n",
      "Epoch 112/200\n",
      "101/101 [==============================] - 0s 168us/step - loss: 0.1873\n",
      "Epoch 113/200\n",
      "101/101 [==============================] - 0s 148us/step - loss: 0.1852\n",
      "Epoch 114/200\n",
      "101/101 [==============================] - 0s 168us/step - loss: 0.1948\n",
      "Epoch 115/200\n",
      "101/101 [==============================] - 0s 178us/step - loss: 0.2027\n",
      "Epoch 116/200\n",
      "101/101 [==============================] - 0s 178us/step - loss: 0.1831\n",
      "Epoch 117/200\n",
      "101/101 [==============================] - 0s 139us/step - loss: 0.1768\n",
      "Epoch 118/200\n",
      "101/101 [==============================] - 0s 148us/step - loss: 0.1763\n",
      "Epoch 119/200\n",
      "101/101 [==============================] - 0s 148us/step - loss: 0.1728\n",
      "Epoch 120/200\n",
      "101/101 [==============================] - 0s 172us/step - loss: 0.1708\n",
      "Epoch 121/200\n",
      "101/101 [==============================] - 0s 189us/step - loss: 0.1679\n",
      "Epoch 122/200\n",
      "101/101 [==============================] - 0s 175us/step - loss: 0.1749\n",
      "Epoch 123/200\n",
      "101/101 [==============================] - 0s 171us/step - loss: 0.1695\n",
      "Epoch 124/200\n",
      "101/101 [==============================] - 0s 198us/step - loss: 0.1648\n",
      "Epoch 125/200\n",
      "101/101 [==============================] - 0s 178us/step - loss: 0.1644\n",
      "Epoch 126/200\n",
      "101/101 [==============================] - 0s 178us/step - loss: 0.1642\n",
      "Epoch 127/200\n",
      "101/101 [==============================] - 0s 198us/step - loss: 0.1613\n",
      "Epoch 128/200\n",
      "101/101 [==============================] - 0s 168us/step - loss: 0.1575\n",
      "Epoch 129/200\n",
      "101/101 [==============================] - 0s 178us/step - loss: 0.1555\n",
      "Epoch 130/200\n",
      "101/101 [==============================] - 0s 178us/step - loss: 0.1496\n",
      "Epoch 131/200\n",
      "101/101 [==============================] - 0s 148us/step - loss: 0.1545\n",
      "Epoch 132/200\n",
      "101/101 [==============================] - 0s 168us/step - loss: 0.1569\n",
      "Epoch 133/200\n",
      "101/101 [==============================] - 0s 198us/step - loss: 0.1418\n",
      "Epoch 134/200\n",
      "101/101 [==============================] - 0s 148us/step - loss: 0.1529\n",
      "Epoch 135/200\n",
      "101/101 [==============================] - 0s 148us/step - loss: 0.1520\n",
      "Epoch 136/200\n",
      "101/101 [==============================] - 0s 164us/step - loss: 0.1430\n",
      "Epoch 137/200\n",
      "101/101 [==============================] - 0s 158us/step - loss: 0.1394\n",
      "Epoch 138/200\n",
      "101/101 [==============================] - 0s 139us/step - loss: 0.1420\n",
      "Epoch 139/200\n",
      "101/101 [==============================] - 0s 139us/step - loss: 0.1502\n",
      "Epoch 140/200\n",
      "101/101 [==============================] - ETA: 0s - loss: 0.188 - 0s 119us/step - loss: 0.1764\n",
      "Epoch 141/200\n",
      "101/101 [==============================] - 0s 129us/step - loss: 0.1574\n",
      "Epoch 142/200\n",
      "101/101 [==============================] - 0s 99us/step - loss: 0.1239\n",
      "Epoch 143/200\n",
      "101/101 [==============================] - 0s 89us/step - loss: 0.1452\n",
      "Epoch 144/200\n",
      "101/101 [==============================] - 0s 113us/step - loss: 0.1430\n",
      "Epoch 145/200\n",
      "101/101 [==============================] - 0s 99us/step - loss: 0.1235\n",
      "Epoch 146/200\n",
      "101/101 [==============================] - 0s 129us/step - loss: 0.1253\n",
      "Epoch 147/200\n",
      "101/101 [==============================] - 0s 129us/step - loss: 0.1312\n",
      "Epoch 148/200\n",
      "101/101 [==============================] - 0s 158us/step - loss: 0.1296\n",
      "Epoch 149/200\n",
      "101/101 [==============================] - 0s 129us/step - loss: 0.1226\n",
      "Epoch 150/200\n",
      "101/101 [==============================] - 0s 138us/step - loss: 0.1264\n",
      "Epoch 151/200\n",
      "101/101 [==============================] - 0s 129us/step - loss: 0.1336\n",
      "Epoch 152/200\n",
      "101/101 [==============================] - 0s 109us/step - loss: 0.1253\n",
      "Epoch 153/200\n",
      "101/101 [==============================] - 0s 119us/step - loss: 0.1154\n",
      "Epoch 154/200\n",
      "101/101 [==============================] - 0s 148us/step - loss: 0.1206\n",
      "Epoch 155/200\n",
      "101/101 [==============================] - 0s 129us/step - loss: 0.1115\n",
      "Epoch 156/200\n",
      "101/101 [==============================] - 0s 129us/step - loss: 0.1143\n",
      "Epoch 157/200\n",
      "101/101 [==============================] - 0s 139us/step - loss: 0.1216\n",
      "Epoch 158/200\n",
      "101/101 [==============================] - 0s 123us/step - loss: 0.1163\n",
      "Epoch 159/200\n",
      "101/101 [==============================] - 0s 139us/step - loss: 0.1144\n",
      "Epoch 160/200\n",
      "101/101 [==============================] - 0s 129us/step - loss: 0.1111\n",
      "Epoch 161/200\n",
      "101/101 [==============================] - 0s 119us/step - loss: 0.1067\n",
      "Epoch 162/200\n",
      "101/101 [==============================] - 0s 154us/step - loss: 0.1073\n",
      "Epoch 163/200\n",
      "101/101 [==============================] - 0s 158us/step - loss: 0.1059\n",
      "Epoch 164/200\n",
      "101/101 [==============================] - 0s 154us/step - loss: 0.1093\n",
      "Epoch 165/200\n",
      "101/101 [==============================] - ETA: 0s - loss: 0.148 - 0s 158us/step - loss: 0.1067\n",
      "Epoch 166/200\n",
      "101/101 [==============================] - 0s 141us/step - loss: 0.1025\n",
      "Epoch 167/200\n",
      "101/101 [==============================] - 0s 109us/step - loss: 0.1173\n",
      "Epoch 168/200\n",
      "101/101 [==============================] - 0s 109us/step - loss: 0.1135\n",
      "Epoch 169/200\n",
      "101/101 [==============================] - 0s 119us/step - loss: 0.0986\n",
      "Epoch 170/200\n",
      "101/101 [==============================] - 0s 119us/step - loss: 0.0998\n",
      "Epoch 171/200\n",
      "101/101 [==============================] - 0s 139us/step - loss: 0.1021\n",
      "Epoch 172/200\n",
      "101/101 [==============================] - 0s 119us/step - loss: 0.0950\n",
      "Epoch 173/200\n",
      "101/101 [==============================] - 0s 129us/step - loss: 0.1017\n",
      "Epoch 174/200\n",
      "101/101 [==============================] - 0s 119us/step - loss: 0.0982\n",
      "Epoch 175/200\n",
      "101/101 [==============================] - 0s 129us/step - loss: 0.0943\n",
      "Epoch 176/200\n",
      "101/101 [==============================] - 0s 99us/step - loss: 0.0908\n",
      "Epoch 177/200\n",
      "101/101 [==============================] - 0s 89us/step - loss: 0.0976\n",
      "Epoch 178/200\n",
      "101/101 [==============================] - 0s 99us/step - loss: 0.0926\n",
      "Epoch 179/200\n",
      "101/101 [==============================] - 0s 109us/step - loss: 0.0834\n",
      "Epoch 180/200\n",
      "101/101 [==============================] - 0s 99us/step - loss: 0.0892\n",
      "Epoch 181/200\n",
      "101/101 [==============================] - 0s 99us/step - loss: 0.0897\n",
      "Epoch 182/200\n",
      "101/101 [==============================] - ETA: 0s - loss: 0.072 - 0s 109us/step - loss: 0.0859\n",
      "Epoch 183/200\n",
      "101/101 [==============================] - 0s 139us/step - loss: 0.0818\n",
      "Epoch 184/200\n",
      "101/101 [==============================] - 0s 99us/step - loss: 0.0847\n",
      "Epoch 185/200\n",
      "101/101 [==============================] - ETA: 0s - loss: 0.130 - 0s 129us/step - loss: 0.0893\n",
      "Epoch 186/200\n",
      "101/101 [==============================] - 0s 139us/step - loss: 0.0797\n",
      "Epoch 187/200\n",
      "101/101 [==============================] - 0s 129us/step - loss: 0.0902\n",
      "Epoch 188/200\n",
      "101/101 [==============================] - 0s 119us/step - loss: 0.0784\n",
      "Epoch 189/200\n",
      "101/101 [==============================] - 0s 119us/step - loss: 0.0843\n",
      "Epoch 190/200\n",
      "101/101 [==============================] - 0s 99us/step - loss: 0.1032\n",
      "Epoch 191/200\n"
     ]
    },
    {
     "name": "stdout",
     "output_type": "stream",
     "text": [
      "101/101 [==============================] - 0s 99us/step - loss: 0.0852\n",
      "Epoch 192/200\n",
      "101/101 [==============================] - 0s 99us/step - loss: 0.0742\n",
      "Epoch 193/200\n",
      "101/101 [==============================] - 0s 119us/step - loss: 0.0823\n",
      "Epoch 194/200\n",
      "101/101 [==============================] - 0s 178us/step - loss: 0.0737\n",
      "Epoch 195/200\n",
      "101/101 [==============================] - 0s 198us/step - loss: 0.0733\n",
      "Epoch 196/200\n",
      "101/101 [==============================] - 0s 129us/step - loss: 0.0830\n",
      "Epoch 197/200\n",
      "101/101 [==============================] - 0s 119us/step - loss: 0.0789\n",
      "Epoch 198/200\n",
      "101/101 [==============================] - 0s 119us/step - loss: 0.0702\n",
      "Epoch 199/200\n",
      "101/101 [==============================] - 0s 119us/step - loss: 0.0745\n",
      "Epoch 200/200\n",
      "101/101 [==============================] - 0s 139us/step - loss: 0.0761\n"
     ]
    },
    {
     "data": {
      "text/plain": [
       "<keras.callbacks.callbacks.History at 0x26323b2f518>"
      ]
     },
     "execution_count": 18,
     "metadata": {},
     "output_type": "execute_result"
    }
   ],
   "source": [
    "#train the model\n",
    "model1.fit(X,y,epochs=200)"
   ]
  },
  {
   "cell_type": "code",
   "execution_count": 19,
   "metadata": {},
   "outputs": [],
   "source": [
    "#make prediction\n",
    "y_predict = model1.predict(X)"
   ]
  },
  {
   "cell_type": "code",
   "execution_count": 13,
   "metadata": {},
   "outputs": [
    {
     "data": {
      "image/png": "[encoded data removed]",
      "text/plain": [
       "<Figure size 504x360 with 1 Axes>"
      ]
     },
     "metadata": {
      "needs_background": "light"
     },
     "output_type": "display_data"
    }
   ],
   "source": [
    "fig2 = plt.figure(figsize=(7,5))\n",
    "plt.scatter(X,y)\n",
    "plt.plot(X,y_predict,'r')\n",
    "plt.title('y vs x(epochs=100)')\n",
    "plt.xlabel('x')\n",
    "plt.ylabel('y')\n",
    "plt.show()"
   ]
  },
  {
   "cell_type": "code",
   "execution_count": 17,
   "metadata": {},
   "outputs": [
    {
     "data": {
      "image/png": "[encoded data removed]",
      "text/plain": [
       "<Figure size 504x360 with 1 Axes>"
      ]
     },
     "metadata": {
      "needs_background": "light"
     },
     "output_type": "display_data"
    }
   ],
   "source": [
    "fig3 = plt.figure(figsize=(7,5))\n",
    "plt.scatter(X,y)\n",
    "plt.plot(X,y_predict,'r')\n",
    "plt.title('y vs x(epochs=200)')\n",
    "plt.xlabel('x')\n",
    "plt.ylabel('y')\n",
    "plt.show()"
   ]
  },
  {
   "cell_type": "code",
   "execution_count": 20,
   "metadata": {},
   "outputs": [
    {
     "data": {
      "image/png": "[encoded data removed]",
      "text/plain": [
       "<Figure size 504x360 with 1 Axes>"
      ]
     },
     "metadata": {
      "needs_background": "light"
     },
     "output_type": "display_data"
    }
   ],
   "source": [
    "fig4 = plt.figure(figsize=(7,5))\n",
    "plt.scatter(X,y)\n",
    "plt.plot(X,y_predict,'r')\n",
    "plt.title('y vs x(epochs=400)')\n",
    "plt.xlabel('x')\n",
    "plt.ylabel('y')\n",
    "plt.show()"
   ]
  },
  {
   "cell_type": "code",
   "execution_count": 26,
   "metadata": {},
   "outputs": [
    {
     "name": "stderr",
     "output_type": "stream",
     "text": [
      "C:\\Users\\niubi\\Anaconda3\\envs\\env_ttest\\lib\\site-packages\\sklearn\\externals\\joblib\\__init__.py:15: FutureWarning: sklearn.externals.joblib is deprecated in 0.21 and will be removed in 0.23. Please import this functionality directly from joblib, which can be installed with: pip install joblib. If this warning is raised when loading pickled models, you may need to re-serialize those models with scikit-learn 0.21+.\n",
      "  warnings.warn(msg, category=FutureWarning)\n"
     ]
    }
   ],
   "source": [
    "from sklearn.externals import joblib\n",
    "joblib.dump(model1,'model1.m')"
   ]
  },
  {
   "cell_type": "code",
   "execution_count": 35,
   "metadata": {},
   "outputs": [],
   "source": [
    "model2 = joblib.load('model1.m')"
   ]
  },
  {
   "cell_type": "code",
   "execution_count": 28,
   "metadata": {},
   "outputs": [
    {
     "data": {
      "text/html": [
       "<div>\n",
       "<style scoped>\n",
       "    .dataframe tbody tr th:only-of-type {\n",
       "        vertical-align: middle;\n",
       "    }\n",
       "\n",
       "    .dataframe tbody tr th {\n",
       "        vertical-align: top;\n",
       "    }\n",
       "\n",
       "    .dataframe thead th {\n",
       "        text-align: right;\n",
       "    }\n",
       "</style>\n",
       "<table border=\"1\" class=\"dataframe\">\n",
       "  <thead>\n",
       "    <tr style=\"text-align: right;\">\n",
       "      <th></th>\n",
       "      <th>x2</th>\n",
       "      <th>y2</th>\n",
       "    </tr>\n",
       "  </thead>\n",
       "  <tbody>\n",
       "    <tr>\n",
       "      <th>0</th>\n",
       "      <td>-5.0</td>\n",
       "      <td>26.00</td>\n",
       "    </tr>\n",
       "    <tr>\n",
       "      <th>1</th>\n",
       "      <td>-4.9</td>\n",
       "      <td>25.21</td>\n",
       "    </tr>\n",
       "    <tr>\n",
       "      <th>2</th>\n",
       "      <td>-4.8</td>\n",
       "      <td>24.44</td>\n",
       "    </tr>\n",
       "    <tr>\n",
       "      <th>3</th>\n",
       "      <td>-4.7</td>\n",
       "      <td>23.69</td>\n",
       "    </tr>\n",
       "    <tr>\n",
       "      <th>4</th>\n",
       "      <td>-4.6</td>\n",
       "      <td>22.96</td>\n",
       "    </tr>\n",
       "  </tbody>\n",
       "</table>\n",
       "</div>"
      ],
      "text/plain": [
       "    x2     y2\n",
       "0 -5.0  26.00\n",
       "1 -4.9  25.21\n",
       "2 -4.8  24.44\n",
       "3 -4.7  23.69\n",
       "4 -4.6  22.96"
      ]
     },
     "execution_count": 28,
     "metadata": {},
     "output_type": "execute_result"
    }
   ],
   "source": [
    "data2 = pd.read_csv('transfer_data2.csv')\n",
    "data2.head()"
   ]
  },
  {
   "cell_type": "code",
   "execution_count": 29,
   "metadata": {},
   "outputs": [],
   "source": [
    "#define x2 and y2\n",
    "X2 = data2.loc[:,'x2']\n",
    "y2 = data2.loc[:,'y2']"
   ]
  },
  {
   "cell_type": "code",
   "execution_count": 30,
   "metadata": {},
   "outputs": [
    {
     "name": "stdout",
     "output_type": "stream",
     "text": [
      "(101, 1)\n"
     ]
    }
   ],
   "source": [
    "X2 = np.array(X2).reshape(-1,1)\n",
    "print(X2.shape)"
   ]
  },
  {
   "cell_type": "code",
   "execution_count": 31,
   "metadata": {},
   "outputs": [],
   "source": [
    "y2_predict = model2.predict(X2)"
   ]
  },
  {
   "cell_type": "code",
   "execution_count": 32,
   "metadata": {},
   "outputs": [
    {
     "data": {
      "image/png": "[encoded data removed]",
      "text/plain": [
       "<Figure size 504x360 with 1 Axes>"
      ]
     },
     "metadata": {
      "needs_background": "light"
     },
     "output_type": "display_data"
    }
   ],
   "source": [
    "fig5 = plt.figure(figsize=(7,5))\n",
    "plt.scatter(X,y,label = 'data1')\n",
    "plt.scatter(X2,y2 , label = 'data2')\n",
    "plt.plot(X,y2_predict,'r',label='predict2')\n",
    "plt.title('y vs x')\n",
    "plt.xlabel('x')\n",
    "plt.ylabel('y')\n",
    "plt.legend()\n",
    "plt.show()"
   ]
  },
  {
   "cell_type": "code",
   "execution_count": 42,
   "metadata": {},
   "outputs": [
    {
     "name": "stdout",
     "output_type": "stream",
     "text": [
      "Epoch 1/20\n",
      "101/101 [==============================] - 0s 99us/step - loss: 2.4736\n",
      "Epoch 2/20\n",
      "101/101 [==============================] - 0s 89us/step - loss: 2.1672\n",
      "Epoch 3/20\n",
      "101/101 [==============================] - 0s 79us/step - loss: 1.8986\n",
      "Epoch 4/20\n",
      "101/101 [==============================] - 0s 79us/step - loss: 1.6712\n",
      "Epoch 5/20\n",
      "101/101 [==============================] - 0s 99us/step - loss: 1.4537\n",
      "Epoch 6/20\n",
      "101/101 [==============================] - 0s 69us/step - loss: 1.2996\n",
      "Epoch 7/20\n",
      "101/101 [==============================] - 0s 89us/step - loss: 1.1602\n",
      "Epoch 8/20\n",
      "101/101 [==============================] - 0s 99us/step - loss: 1.0358\n",
      "Epoch 9/20\n",
      "101/101 [==============================] - 0s 99us/step - loss: 0.9541\n",
      "Epoch 10/20\n",
      "101/101 [==============================] - 0s 69us/step - loss: 0.8581\n",
      "Epoch 11/20\n",
      "101/101 [==============================] - 0s 119us/step - loss: 0.7655\n",
      "Epoch 12/20\n",
      "101/101 [==============================] - 0s 89us/step - loss: 0.6968\n",
      "Epoch 13/20\n",
      "101/101 [==============================] - 0s 89us/step - loss: 0.6225\n",
      "Epoch 14/20\n",
      "101/101 [==============================] - 0s 99us/step - loss: 0.5664\n",
      "Epoch 15/20\n",
      "101/101 [==============================] - 0s 139us/step - loss: 0.5114\n",
      "Epoch 16/20\n",
      "101/101 [==============================] - 0s 107us/step - loss: 0.4710\n",
      "Epoch 17/20\n",
      "101/101 [==============================] - 0s 109us/step - loss: 0.4362\n",
      "Epoch 18/20\n",
      "101/101 [==============================] - 0s 99us/step - loss: 0.4037\n",
      "Epoch 19/20\n",
      "101/101 [==============================] - 0s 109us/step - loss: 0.3772\n",
      "Epoch 20/20\n",
      "101/101 [==============================] - 0s 89us/step - loss: 0.3519\n"
     ]
    },
    {
     "data": {
      "text/plain": [
       "<keras.callbacks.callbacks.History at 0x26327bf40b8>"
      ]
     },
     "execution_count": 42,
     "metadata": {},
     "output_type": "execute_result"
    }
   ],
   "source": [
    "#transfer learning\n",
    "model2.fit(X2,y2,epochs=20)"
   ]
  },
  {
   "cell_type": "code",
   "execution_count": 43,
   "metadata": {},
   "outputs": [],
   "source": [
    "y2_predict = model2.predict(X2)"
   ]
  },
  {
   "cell_type": "code",
   "execution_count": 38,
   "metadata": {},
   "outputs": [
    {
     "data": {
      "image/png": "[encoded data removed]",
      "text/plain": [
       "<Figure size 504x360 with 1 Axes>"
      ]
     },
     "metadata": {
      "needs_background": "light"
     },
     "output_type": "display_data"
    }
   ],
   "source": [
    "fig6 = plt.figure(figsize=(7,5))\n",
    "plt.scatter(X,y,label = 'data1')\n",
    "plt.scatter(X2,y2 , label = 'data2')\n",
    "plt.plot(X,y2_predict,'r',label='predict2')\n",
    "plt.title('y vs x(epochs=10)')\n",
    "plt.xlabel('x')\n",
    "plt.ylabel('y')\n",
    "plt.legend()\n",
    "plt.show()"
   ]
  },
  {
   "cell_type": "code",
   "execution_count": 41,
   "metadata": {},
   "outputs": [
    {
     "data": {
      "image/png": "[encoded data removed]",
      "text/plain": [
       "<Figure size 504x360 with 1 Axes>"
      ]
     },
     "metadata": {
      "needs_background": "light"
     },
     "output_type": "display_data"
    }
   ],
   "source": [
    "fig7 = plt.figure(figsize=(7,5))\n",
    "plt.scatter(X,y,label = 'data1')\n",
    "plt.scatter(X2,y2 , label = 'data2')\n",
    "plt.plot(X,y2_predict,'r',label='predict2')\n",
    "plt.title('y vs x(epochs=20)')\n",
    "plt.xlabel('x')\n",
    "plt.ylabel('y')\n",
    "plt.legend()\n",
    "plt.show()"
   ]
  },
  {
   "cell_type": "code",
   "execution_count": 44,
   "metadata": {},
   "outputs": [
    {
     "data": {
      "image/png": "[encoded data removed]",
      "text/plain": [
       "<Figure size 504x360 with 1 Axes>"
      ]
     },
     "metadata": {
      "needs_background": "light"
     },
     "output_type": "display_data"
    }
   ],
   "source": [
    "fig8 = plt.figure(figsize=(7,5))\n",
    "plt.scatter(X,y,label = 'data1')\n",
    "plt.scatter(X2,y2 , label = 'data2')\n",
    "plt.plot(X,y2_predict,'r',label='predict2')\n",
    "plt.title('y vs x(epochs=40)')\n",
    "plt.xlabel('x')\n",
    "plt.ylabel('y')\n",
    "plt.legend()\n",
    "plt.show()"
   ]
  },
  {
   "cell_type": "code",
   "execution_count": null,
   "metadata": {},
   "outputs": [],
   "source": []
  },
  {
   "cell_type": "raw",
   "metadata": {},
   "source": [
    "基于新数据的迁移学习实战summary：\n",
    "1、通过使用新数据，实现了模型的2次训练，达到了较好的预测效果；\n",
    "2、建立mlp模型实现了非线性分布数据的回归预测；\n",
    "3、掌握了模型存储与加载的方法；\n",
    "4、通过迁移学习，可减少模型训练迭代次数，大幅缩短训练时间"
   ]
  }
 ],
 "metadata": {
  "kernelspec": {
   "display_name": "Python 3",
   "language": "python",
   "name": "python3"
  },
  "language_info": {
   "codemirror_mode": {
    "name": "ipython",
    "version": 3
   },
   "file_extension": ".py",
   "mimetype": "text/x-python",
   "name": "python",
   "nbconvert_exporter": "python",
   "pygments_lexer": "ipython3",
   "version": "3.6.10"
  }
 },
 "nbformat": 4,
 "nbformat_minor": 2
}
